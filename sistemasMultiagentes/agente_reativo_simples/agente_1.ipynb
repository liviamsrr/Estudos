{
 "cells": [
  {
   "cell_type": "markdown",
   "id": "52bd25f7",
   "metadata": {},
   "source": [
    "# Agente Reativo Simples\n",
    "\n",
    "Um agente reativo simples não tem memória de estados anteriores e toma decisões com base na percepção atual. Sua lógica é regida por regras de condição-ação, ou seja, \"se a condição X é verdadeira, então realize a ação Y\".\n",
    "No caso desse agente, ele possui apenas uma lógica de decisão: \"limpar ou não\", o seu movimento pela sala é tratado por um \"piloto automático\" externo (função simular_agente)."
   ]
  },
  {
   "cell_type": "markdown",
   "id": "41cc7104",
   "metadata": {},
   "source": [
    "- Aspirador de Pó Robo"
   ]
  },
  {
   "cell_type": "markdown",
   "id": "b788d8f9",
   "metadata": {},
   "source": [
    "Ambiente"
   ]
  },
  {
   "cell_type": "markdown",
   "id": "1e432f28",
   "metadata": {},
   "source": [
    "Em uma aplicação real, essa função viria diretamente dos sensores. Vamos simular o ambiente que será percebido pelo nosso agente, nesse caso uma matriz, no qual a sujeira é representada pelos 1's e os espaços limpos por 0's. \n"
   ]
  },
  {
   "cell_type": "code",
   "execution_count": 1,
   "id": "0f031f6f",
   "metadata": {},
   "outputs": [],
   "source": [
    "import random\n",
    "import time\n",
    "import os "
   ]
  },
  {
   "cell_type": "code",
   "execution_count": 2,
   "id": "c306588a",
   "metadata": {},
   "outputs": [],
   "source": [
    "def ambiente(tamanho=3):\n",
    "\n",
    "    sala = []\n",
    "    \n",
    "    for _ in range(tamanho):\n",
    "        \n",
    "        linha = []\n",
    "        \n",
    "        for _ in range(tamanho):\n",
    "            \n",
    "            celula = random.choice([0, 1])\n",
    "            \n",
    "            linha.append(celula)\n",
    "            \n",
    "        sala.append(linha)\n",
    "    \n",
    "    return sala"
   ]
  },
  {
   "cell_type": "markdown",
   "id": "c215d61f",
   "metadata": {},
   "source": [
    "Agente - regra de condição-ação. "
   ]
  },
  {
   "cell_type": "code",
   "execution_count": 3,
   "id": "67e9e662",
   "metadata": {},
   "outputs": [],
   "source": [
    "def agente_aspirador(percepcao):\n",
    "    \n",
    "    if percepcao == 1:\n",
    "        return 'limpar'\n",
    "    else:\n",
    "        return 'manter'"
   ]
  },
  {
   "cell_type": "markdown",
   "id": "e73e8484",
   "metadata": {},
   "source": [
    "Impressão do Ambiente"
   ]
  },
  {
   "cell_type": "code",
   "execution_count": 4,
   "id": "f1f62fa0",
   "metadata": {},
   "outputs": [],
   "source": [
    "def imprimir_ambiente(sala, pos_x, pos_y):\n",
    "   \n",
    "    os.system('cls' if os.name == 'nt' else 'clear') \n",
    "\n",
    "    print(\"--- Simulação do Aspirador ---\")\n",
    "    \n",
    "    # Percorre cada linha da matriz\n",
    "    for r, linha in enumerate(sala):\n",
    "        linha_str = \"\"  # Reinicia a string para cada nova linha\n",
    "    \n",
    "        for c, celula in enumerate(linha):\n",
    "            \n",
    "            if r == pos_x and c == pos_y:\n",
    "                linha_str += f\"[{celula}] \" #colchetes para destacar\n",
    "            else:\n",
    "                linha_str += f\" {celula}  \" #espaços para alinhamento\n",
    "                \n",
    "        print(linha_str)"
   ]
  },
  {
   "cell_type": "markdown",
   "id": "80b9995d",
   "metadata": {},
   "source": [
    "Simulação Agente"
   ]
  },
  {
   "cell_type": "code",
   "execution_count": 5,
   "id": "ac8224a6",
   "metadata": {},
   "outputs": [],
   "source": [
    "def simular_agente(sala, pausa=1):\n",
    "        \n",
    "        print(\"--- Ambiente Inicial ---\")\n",
    "        \n",
    "        for linha in sala:\n",
    "            print(linha)\n",
    "        time.sleep(pausa)\n",
    "\n",
    "        for x in range(len(sala)):\n",
    "            for y in range(len(sala[x])):\n",
    "\n",
    "                imprimir_ambiente(sala, x, y)\n",
    "                \n",
    "                percepcao_atual = sala[x][y]\n",
    "                acao = agente_aspirador(percepcao_atual)\n",
    "                \n",
    "                print(f\"Percepção: {percepcao_atual}. Ação: {acao}\")\n",
    "                \n",
    "                if acao == 'limpar':\n",
    "                    sala[x][y] = 0\n",
    "                \n",
    "                time.sleep(pausa) \n",
    "                \n",
    "        os.system('cls' if os.name == 'nt' else 'clear')\n",
    "        print(\"--- Simulação Concluída ---\")\n",
    "        print(\"--- Ambiente Final ---\")\n",
    "        for linha in sala:\n",
    "            print(linha)\n",
    "\n"
   ]
  },
  {
   "cell_type": "markdown",
   "id": "390e8d7a",
   "metadata": {},
   "source": [
    "Main"
   ]
  },
  {
   "cell_type": "code",
   "execution_count": 6,
   "id": "bc80e8b1",
   "metadata": {},
   "outputs": [
    {
     "name": "stdout",
     "output_type": "stream",
     "text": [
      "--- Ambiente Inicial ---\n",
      "[1, 1, 1]\n",
      "[1, 1, 0]\n",
      "[1, 1, 1]\n",
      "--- Simulação do Aspirador ---\n",
      "[1]  1   1  \n",
      " 1   1   0  \n",
      " 1   1   1  \n",
      "Percepção: 1. Ação: limpar\n",
      "--- Simulação do Aspirador ---\n",
      " 0  [1]  1  \n",
      " 1   1   0  \n",
      " 1   1   1  \n",
      "Percepção: 1. Ação: limpar\n",
      "--- Simulação do Aspirador ---\n",
      " 0   0  [1] \n",
      " 1   1   0  \n",
      " 1   1   1  \n",
      "Percepção: 1. Ação: limpar\n",
      "--- Simulação do Aspirador ---\n",
      " 0   0   0  \n",
      "[1]  1   0  \n",
      " 1   1   1  \n",
      "Percepção: 1. Ação: limpar\n",
      "--- Simulação do Aspirador ---\n",
      " 0   0   0  \n",
      " 0  [1]  0  \n",
      " 1   1   1  \n",
      "Percepção: 1. Ação: limpar\n",
      "--- Simulação do Aspirador ---\n",
      " 0   0   0  \n",
      " 0   0  [0] \n",
      " 1   1   1  \n",
      "Percepção: 0. Ação: manter\n",
      "--- Simulação do Aspirador ---\n",
      " 0   0   0  \n",
      " 0   0   0  \n",
      "[1]  1   1  \n",
      "Percepção: 1. Ação: limpar\n",
      "--- Simulação do Aspirador ---\n",
      " 0   0   0  \n",
      " 0   0   0  \n",
      " 0  [1]  1  \n",
      "Percepção: 1. Ação: limpar\n",
      "--- Simulação do Aspirador ---\n",
      " 0   0   0  \n",
      " 0   0   0  \n",
      " 0   0  [1] \n",
      "Percepção: 1. Ação: limpar\n",
      "--- Simulação Concluída ---\n",
      "--- Ambiente Final ---\n",
      "[0, 0, 0]\n",
      "[0, 0, 0]\n",
      "[0, 0, 0]\n"
     ]
    }
   ],
   "source": [
    "sala_do_exemplo = ambiente(tamanho=3)\n",
    "\n",
    "simular_agente(sala_do_exemplo, pausa=1)"
   ]
  }
 ],
 "metadata": {
  "kernelspec": {
   "display_name": "Python 3",
   "language": "python",
   "name": "python3"
  },
  "language_info": {
   "codemirror_mode": {
    "name": "ipython",
    "version": 3
   },
   "file_extension": ".py",
   "mimetype": "text/x-python",
   "name": "python",
   "nbconvert_exporter": "python",
   "pygments_lexer": "ipython3",
   "version": "3.12.2"
  }
 },
 "nbformat": 4,
 "nbformat_minor": 5
}
